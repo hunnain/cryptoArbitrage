{
 "cells": [
  {
   "cell_type": "code",
   "execution_count": 18,
   "metadata": {},
   "outputs": [
    {
     "data": {
      "text/plain": [
       "[{u'market': u'BitFinex',\n",
       "  u'price': u'6703.00000000',\n",
       "  u'volume': 64851.56049308},\n",
       " {u'market': u'Bitstamp',\n",
       "  u'price': u'6710.56000000',\n",
       "  u'volume': 11875.35512274},\n",
       " {u'market': u'Bittrex', u'price': u'6698.00000000', u'volume': 3042.80347426},\n",
       " {u'market': u'C-Cex', u'price': u'7429.00000000', u'volume': 2.92088527},\n",
       " {u'market': u'Cex.io', u'price': u'6852.00000000', u'volume': 921.59663911},\n",
       " {u'market': u'Exmo', u'price': u'6953.16000001', u'volume': 1131.48003016},\n",
       " {u'market': u'Hitbtc', u'price': u'7041.11000000', u'volume': 6175.67},\n",
       " {u'market': u'Kraken', u'price': u'6683.40000000', u'volume': 7898.05820448},\n",
       " {u'market': u'Livecoin',\n",
       "  u'price': u'7106.25938000',\n",
       "  u'volume': 1566.02807432},\n",
       " {u'market': u'Poloniex',\n",
       "  u'price': u'6704.71958501',\n",
       "  u'volume': 2624.57657915},\n",
       " {u'market': u'wexnz', u'price': u'6944.99000000', u'volume': 958.30215},\n",
       " {u'market': u'YoBit', u'price': u'7155.37495412', u'volume': 143.53888837}]"
      ]
     },
     "execution_count": 18,
     "metadata": {},
     "output_type": "execute_result"
    }
   ],
   "source": [
    "\n",
    "import pandas as pd\n",
    "import numpy as np\n",
    "import matplotlib.pyplot as plt\n",
    "import requests \n",
    "myapi = 'https://api.cryptonator.com/api/ticker/btc-usd'\n",
    "myapi = 'https://api.cryptonator.com/api/full/btc-usd'\n",
    "myapi= requests.get(myapi).json()['ticker']['markets']\n",
    "myapi "
   ]
  },
  {
   "cell_type": "code",
   "execution_count": 20,
   "metadata": {},
   "outputs": [
    {
     "data": {
      "text/html": [
       "<div>\n",
       "<table border=\"1\" class=\"dataframe\">\n",
       "  <thead>\n",
       "    <tr style=\"text-align: right;\">\n",
       "      <th></th>\n",
       "      <th>market</th>\n",
       "      <th>price</th>\n",
       "      <th>volume</th>\n",
       "    </tr>\n",
       "  </thead>\n",
       "  <tbody>\n",
       "    <tr>\n",
       "      <th>0</th>\n",
       "      <td>BitFinex</td>\n",
       "      <td>6703.00000000</td>\n",
       "      <td>64851.560493</td>\n",
       "    </tr>\n",
       "    <tr>\n",
       "      <th>1</th>\n",
       "      <td>Bitstamp</td>\n",
       "      <td>6710.56000000</td>\n",
       "      <td>11875.355123</td>\n",
       "    </tr>\n",
       "    <tr>\n",
       "      <th>2</th>\n",
       "      <td>Bittrex</td>\n",
       "      <td>6698.00000000</td>\n",
       "      <td>3042.803474</td>\n",
       "    </tr>\n",
       "    <tr>\n",
       "      <th>3</th>\n",
       "      <td>C-Cex</td>\n",
       "      <td>7429.00000000</td>\n",
       "      <td>2.920885</td>\n",
       "    </tr>\n",
       "    <tr>\n",
       "      <th>4</th>\n",
       "      <td>Cex.io</td>\n",
       "      <td>6852.00000000</td>\n",
       "      <td>921.596639</td>\n",
       "    </tr>\n",
       "    <tr>\n",
       "      <th>5</th>\n",
       "      <td>Exmo</td>\n",
       "      <td>6953.16000001</td>\n",
       "      <td>1131.480030</td>\n",
       "    </tr>\n",
       "    <tr>\n",
       "      <th>6</th>\n",
       "      <td>Hitbtc</td>\n",
       "      <td>7041.11000000</td>\n",
       "      <td>6175.670000</td>\n",
       "    </tr>\n",
       "    <tr>\n",
       "      <th>7</th>\n",
       "      <td>Kraken</td>\n",
       "      <td>6683.40000000</td>\n",
       "      <td>7898.058204</td>\n",
       "    </tr>\n",
       "    <tr>\n",
       "      <th>8</th>\n",
       "      <td>Livecoin</td>\n",
       "      <td>7106.25938000</td>\n",
       "      <td>1566.028074</td>\n",
       "    </tr>\n",
       "    <tr>\n",
       "      <th>9</th>\n",
       "      <td>Poloniex</td>\n",
       "      <td>6704.71958501</td>\n",
       "      <td>2624.576579</td>\n",
       "    </tr>\n",
       "    <tr>\n",
       "      <th>10</th>\n",
       "      <td>wexnz</td>\n",
       "      <td>6944.99000000</td>\n",
       "      <td>958.302150</td>\n",
       "    </tr>\n",
       "    <tr>\n",
       "      <th>11</th>\n",
       "      <td>YoBit</td>\n",
       "      <td>7155.37495412</td>\n",
       "      <td>143.538888</td>\n",
       "    </tr>\n",
       "  </tbody>\n",
       "</table>\n",
       "</div>"
      ],
      "text/plain": [
       "      market          price        volume\n",
       "0   BitFinex  6703.00000000  64851.560493\n",
       "1   Bitstamp  6710.56000000  11875.355123\n",
       "2    Bittrex  6698.00000000   3042.803474\n",
       "3      C-Cex  7429.00000000      2.920885\n",
       "4     Cex.io  6852.00000000    921.596639\n",
       "5       Exmo  6953.16000001   1131.480030\n",
       "6     Hitbtc  7041.11000000   6175.670000\n",
       "7     Kraken  6683.40000000   7898.058204\n",
       "8   Livecoin  7106.25938000   1566.028074\n",
       "9   Poloniex  6704.71958501   2624.576579\n",
       "10     wexnz  6944.99000000    958.302150\n",
       "11     YoBit  7155.37495412    143.538888"
      ]
     },
     "execution_count": 20,
     "metadata": {},
     "output_type": "execute_result"
    }
   ],
   "source": [
    "myapi2 = pd.DataFrame(myapi) \n",
    "myapi2"
   ]
  },
  {
   "cell_type": "code",
   "execution_count": 21,
   "metadata": {},
   "outputs": [
    {
     "data": {
      "text/html": [
       "<div>\n",
       "<table border=\"1\" class=\"dataframe\">\n",
       "  <thead>\n",
       "    <tr style=\"text-align: right;\">\n",
       "      <th></th>\n",
       "      <th>volume</th>\n",
       "    </tr>\n",
       "  </thead>\n",
       "  <tbody>\n",
       "    <tr>\n",
       "      <th>count</th>\n",
       "      <td>12.000000</td>\n",
       "    </tr>\n",
       "    <tr>\n",
       "      <th>mean</th>\n",
       "      <td>8432.657545</td>\n",
       "    </tr>\n",
       "    <tr>\n",
       "      <th>std</th>\n",
       "      <td>18129.881570</td>\n",
       "    </tr>\n",
       "    <tr>\n",
       "      <th>min</th>\n",
       "      <td>2.920885</td>\n",
       "    </tr>\n",
       "    <tr>\n",
       "      <th>25%</th>\n",
       "      <td>949.125772</td>\n",
       "    </tr>\n",
       "    <tr>\n",
       "      <th>50%</th>\n",
       "      <td>2095.302327</td>\n",
       "    </tr>\n",
       "    <tr>\n",
       "      <th>75%</th>\n",
       "      <td>6606.267051</td>\n",
       "    </tr>\n",
       "    <tr>\n",
       "      <th>max</th>\n",
       "      <td>64851.560493</td>\n",
       "    </tr>\n",
       "  </tbody>\n",
       "</table>\n",
       "</div>"
      ],
      "text/plain": [
       "             volume\n",
       "count     12.000000\n",
       "mean    8432.657545\n",
       "std    18129.881570\n",
       "min        2.920885\n",
       "25%      949.125772\n",
       "50%     2095.302327\n",
       "75%     6606.267051\n",
       "max    64851.560493"
      ]
     },
     "execution_count": 21,
     "metadata": {},
     "output_type": "execute_result"
    }
   ],
   "source": [
    "myapi2.describe()"
   ]
  },
  {
   "cell_type": "code",
   "execution_count": 74,
   "metadata": {
    "scrolled": true
   },
   "outputs": [
    {
     "name": "stdout",
     "output_type": "stream",
     "text": [
      "Max Market\n",
      "  market          price    volume\n",
      "3  C-Cex  7429.00000000  2.920885\n",
      "Min Market\n",
      "   market          price       volume\n",
      "7  Kraken  6683.40000000  7898.058204\n",
      "('Profit', 745.6000000000004)\n"
     ]
    },
    {
     "data": {
      "image/png": "[encoded data removed]",
      "text/plain": [
       "<matplotlib.figure.Figure at 0x7ff5b71bb090>"
      ]
     },
     "metadata": {},
     "output_type": "display_data"
    }
   ],
   "source": [
    "maxval= max(myapi2['price'])\n",
    "minval= min(myapi2['price'])\n",
    "arbitrage=float(maxval)-float(minval)\n",
    "# print(arbitrage)\n",
    "# market = max(myapi2['market'])\n",
    "marketmax  = myapi2[myapi2['price']==myapi2['price'].max()]\n",
    "marketmin  = myapi2[myapi2['price']==myapi2['price'].min()]\n",
    "# market = myapi2[myapi2['price'].max()]\n",
    "# print('High market name :' market.iloc[0]['market'])\n",
    "print('Max Market')\n",
    "print(marketmax)\n",
    "print('Min Market')\n",
    "\n",
    "print(marketmin)\n",
    "print('Profit',arbitrage)\n",
    "# marketlist = np.array([myapi2.market])\n",
    "# pricelist = np.array([myapi2.price])\n",
    "# print(marketlist)\n",
    "# # print(pricelist)\n",
    "# plt.scatter(marketlist,pricelist)\n",
    "# plt.show()\n",
    "myvol = myapi2['volume']\n",
    "myprice = myapi2['price']\n",
    "mymarket= myapi2['market']\n",
    "\n",
    "# fig, ax = plt.subplots()\n",
    "plt.scatter(myprice,myvol)\n",
    "for i, txt in enumerate(mymarket):\n",
    "    plt.annotate(txt, (myprice[i],myvol[i]))"
   ]
  },
  {
   "cell_type": "code",
   "execution_count": null,
   "metadata": {},
   "outputs": [],
   "source": []
  }
 ],
 "metadata": {
  "kernelspec": {
   "display_name": "Python 3",
   "language": "python",
   "name": "python3"
  },
  "language_info": {
   "codemirror_mode": {
    "name": "ipython",
    "version": 2
   },
   "file_extension": ".py",
   "mimetype": "text/x-python",
   "name": "python",
   "nbconvert_exporter": "python",
   "pygments_lexer": "ipython2",
   "version": "2.7.14"
  }
 },
 "nbformat": 4,
 "nbformat_minor": 2
}
